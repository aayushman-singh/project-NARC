{
 "cells": [
  {
   "cell_type": "code",
   "execution_count": null,
   "metadata": {},
   "outputs": [],
   "source": [
    "import seaborn as sns\n",
    "import matplotlib.pyplot as plt\n",
    "import plotly.express as px\n",
    "import pandas as pd\n",
    "from transformers import AutoTokenizer, AutoModelForSequenceClassification, pipeline\n",
    "import re"
   ]
  },
  {
   "cell_type": "code",
   "execution_count": null,
   "metadata": {},
   "outputs": [],
   "source": [
    "# Load the CardiffNLP Twitter sentiment model\n",
    "model_name = \"cardiffnlp/twitter-roberta-base-sentiment\"\n",
    "tokenizer = AutoTokenizer.from_pretrained(model_name)\n",
    "model = AutoModelForSequenceClassification.from_pretrained(model_name)\n",
    "\n",
    "# Initialize the sentiment pipeline\n",
    "sentiment_analyzer = pipeline(\"sentiment-analysis\", model=model, tokenizer=tokenizer)\n",
    "\n",
    "text_file='C:/Users/aakjo/OneDrive/Documents/GitHub/project-NARC/ml/test_chat.txt'\n",
    "# Load the chat log from a text file\n",
    "with open(text_file, \"r\", encoding=\"utf-8\") as file:\n",
    "    chat_log = file.readlines()\n",
    "\n",
    "# Label mappings for the CardiffNLP model\n",
    "label_mapping = {\n",
    "    \"LABEL_0\": \"NEGATIVE\",\n",
    "    \"LABEL_1\": \"NEUTRAL\",\n",
    "    \"LABEL_2\": \"POSITIVE\"\n",
    "}\n",
    "\n",
    "results = []\n",
    "for line in chat_log:\n",
    "    try:\n",
    "               # Use regex to extract sender, timestamp, and message\n",
    "        match = re.match(r\"^(.*?)(\\d{1,2}:\\d{2}\\s?[APap][Mm]):\\s(.*)$\", line.strip())\n",
    "        if match:\n",
    "            sender = match.group(1).strip()\n",
    "            timestamp = match.group(2).strip()\n",
    "            message = match.group(3).strip()\n",
    "\n",
    "\n",
    "        # Perform sentiment analysis\n",
    "        sentiment = sentiment_analyzer(message)[0]\n",
    "        sentiment_label = label_mapping[sentiment[\"label\"]]\n",
    "\n",
    "        # Append results to the list\n",
    "        results.append({\n",
    "            \"sender\": sender.strip(),\n",
    "            \"timestamp\": timestamp.strip(),\n",
    "            \"message\": message,\n",
    "            \"sentiment\": sentiment_label,\n",
    "            \"confidence\": sentiment[\"score\"]\n",
    "        })\n",
    "    except Exception as e:\n",
    "        print(f\"Error processing line: {line.strip()}. Error: {e}\")\n",
    "        continue\n"
   ]
  },
  {
   "cell_type": "code",
   "execution_count": null,
   "metadata": {},
   "outputs": [],
   "source": [
    "# Convert results to a DataFrame\n",
    "df = pd.DataFrame(results)\n",
    "\n",
    "# Convert timestamp to a datetime object for better visualization\n",
    "df[\"timestamp\"] = pd.to_datetime(df[\"timestamp\"], format=\"%I:%M %p\", errors=\"coerce\")\n",
    "\n",
    "# Print the DataFrame for verification\n",
    "print(\"Sentiment Analysis DataFrame:\")\n",
    "print(df)\n",
    "\n",
    "# Visualization: Sentiment distribution\n",
    "sns.set_theme(style=\"whitegrid\")\n",
    "plt.figure(figsize=(10, 6))\n",
    "sns.countplot(data=df, x=\"sentiment\", palette=\"Set2\")\n",
    "plt.title(\"Sentiment Distribution\")\n",
    "plt.xlabel(\"Sentiment\")\n",
    "plt.ylabel(\"Number of Messages\")\n",
    "plt.tight_layout()\n",
    "plt.savefig(\"sentiment_distribution.png\")\n",
    "plt.show()\n",
    "\n",
    "# Visualization: Sentiment trends over time\n",
    "plt.figure(figsize=(12, 6))\n",
    "sns.lineplot(data=df, x=\"timestamp\", hue=\"sentiment\", palette=\"Set2\", marker=\"o\", estimator=None, y=df.index)\n",
    "plt.title(\"Sentiment Trends Over Time\")\n",
    "plt.xlabel(\"Time\")\n",
    "plt.ylabel(\"Message Index\")\n",
    "plt.xticks(rotation=45)\n",
    "plt.tight_layout()\n",
    "plt.savefig(\"sentiment_trends_over_time.png\")\n",
    "plt.show()"
   ]
  },
  {
   "cell_type": "code",
   "execution_count": null,
   "metadata": {},
   "outputs": [],
   "source": []
  },
  {
   "cell_type": "code",
   "execution_count": null,
   "metadata": {},
   "outputs": [],
   "source": []
  },
  {
   "cell_type": "code",
   "execution_count": null,
   "metadata": {},
   "outputs": [],
   "source": []
  }
 ],
 "metadata": {
  "kernelspec": {
   "display_name": "Python 3",
   "language": "python",
   "name": "python3"
  },
  "language_info": {
   "codemirror_mode": {
    "name": "ipython",
    "version": 3
   },
   "file_extension": ".py",
   "mimetype": "text/x-python",
   "name": "python",
   "nbconvert_exporter": "python",
   "pygments_lexer": "ipython3",
   "version": "3.12.5"
  }
 },
 "nbformat": 4,
 "nbformat_minor": 2
}
